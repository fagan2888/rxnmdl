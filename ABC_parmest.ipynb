{
 "cells": [
  {
   "cell_type": "code",
   "execution_count": 14,
   "metadata": {},
   "outputs": [],
   "source": [
    "import re\n",
    "from scipy.integrate import solve_ivp\n",
    "import matplotlib.pyplot as plt\n",
    "import numpy as np\n",
    "import pandas as pd\n",
    "from scipy.optimize import minimize"
   ]
  },
  {
   "cell_type": "code",
   "execution_count": 2,
   "metadata": {},
   "outputs": [],
   "source": [
    "def stoicoeff(x):\n",
    "    if '*' in x:\n",
    "        stoi = (x.split('*')[1], int(x.split('*')[0]))\n",
    "    else:\n",
    "        stoi = (x, 1)\n",
    "    return stoi\n",
    "\n",
    "def rate(conc, rxnlist, cmplist):\n",
    "    c = {cmp: 0 for cmp in cmplist}\n",
    "    rrate = [0 for r in rxnlist]\n",
    "    for (i, cmp) in enumerate(cmplist):\n",
    "        c[cmp] = conc[i]\n",
    "    for (i, r) in enumerate(rxnlist):\n",
    "        rf = r['p']['kf']\n",
    "        for (cmp, n) in r['info'][0].items():\n",
    "            rf = rf * c[cmp] ** n\n",
    "        if r['info'][2] == 'eq':\n",
    "            rr = kr\n",
    "            for (cmp, n) in r['info'][1].items():\n",
    "                rr = rr * c[cmp] ** n\n",
    "        else:\n",
    "            rr = 0.0 \n",
    "        rrate[i] = rf - rr\n",
    "    dc = {cmp: 0 for cmp in cmplist}\n",
    "    for (i, r) in enumerate(rxnlist):\n",
    "        for cmp in cmplist:\n",
    "            if cmp in r['info'][0]:\n",
    "                dc[cmp] = dc[cmp] - r['info'][0][cmp] * rrate[i]\n",
    "            elif cmp in r['info'][1]:\n",
    "                dc[cmp] = dc[cmp] + r['info'][1][cmp] * rrate[i] \n",
    "    dconc = [0 for cmp in cmplist]\n",
    "    for (i, cmp) in enumerate(cmplist):\n",
    "        dconc[i] = dc[cmp]\n",
    "    \n",
    "    return dconc\n",
    "    "
   ]
  },
  {
   "cell_type": "code",
   "execution_count": 3,
   "metadata": {},
   "outputs": [
    {
     "data": {
      "text/plain": [
       "[{'r': 'A -> B',\n",
       "  'p': {'kf': 1, 'Keq': 1000, 'Eaf': 0, 'Ear': 0},\n",
       "  'info': ({'A': 1}, {'B': 1}, 'fwd')},\n",
       " {'r': 'B -> C',\n",
       "  'p': {'kf': 1, 'Keq': 1000, 'Eaf': 0, 'Ear': 0},\n",
       "  'info': ({'B': 1}, {'C': 1}, 'fwd')}]"
      ]
     },
     "execution_count": 3,
     "metadata": {},
     "output_type": "execute_result"
    }
   ],
   "source": [
    "rxnlist = [{'r': 'A -> B', 'p': {'kf':1, 'Keq': 1000, 'Eaf': 0, 'Ear': 0}}, \n",
    "           {'r': 'B -> C', 'p': {'kf':1, 'Keq': 1000, 'Eaf': 0, 'Ear': 0}}]\n",
    "\n",
    "for rxn in rxnlist:\n",
    "    rxn2 = re.split('->|=', rxn['r'])\n",
    "    rxntype = 'eqb' if '=' in rxn['r'] else 'fwd'\n",
    "    reactants = [x.strip() for x in rxn2[0].split('+')]\n",
    "    products = [x.strip() for x in rxn2[1].split('+')]\n",
    "    stoi_reactants = {stoicoeff(x)[0]: stoicoeff(x)[1] for x in reactants}\n",
    "    stoi_products = {stoicoeff(x)[0]: stoicoeff(x)[1] for x in products}\n",
    "    rxn['info'] = stoi_reactants, stoi_products, rxntype\n",
    "    \n",
    "rxnlist"
   ]
  },
  {
   "cell_type": "code",
   "execution_count": 4,
   "metadata": {},
   "outputs": [],
   "source": [
    "data_df = pd.read_csv(\"ABC_data.csv\")\n",
    "data_df.head()\n",
    "# Convert data to a list of dictionaries\n",
    "data = [{'ca_meas': {k:v for (k, v) in zip(data_df.t, data_df.ca)},\n",
    "    'cb_meas': {k:v for (k, v) in zip(data_df.t, data_df.cb)},\n",
    "    'cc_meas': {k:v for (k, v) in zip(data_df.t, data_df.cc)} }]\n",
    "t_meas = data[0]['ca_meas'].keys()"
   ]
  },
  {
   "cell_type": "code",
   "execution_count": 31,
   "metadata": {},
   "outputs": [],
   "source": [
    "cmplist = ['A', 'B', 'C']\n",
    "\n",
    "def ssq(beta, data, rxnlist, cmplist):\n",
    "    rxnlist[0]['p']['kf'] = beta[0]\n",
    "    rxnlist[1]['p']['kf'] = beta[1]\n",
    "    \n",
    "    #print(rxnlist)\n",
    "    \n",
    "    rate_lam = lambda t, c: rate(c, rxnlist, cmplist)\n",
    "    \n",
    "    csol = solve_ivp(rate_lam, [0, 10], [1.0, 0.0, 0.0], method = 'BDF', t_eval = list(t_meas))\n",
    "    ca_pred = csol.y[0]\n",
    "    cb_pred = csol.y[1]\n",
    "    cc_pred = csol.y[2]\n",
    "    \n",
    "    ca_meas = list(data[0]['ca_meas'].values())\n",
    "    cb_meas = list(data[0]['cb_meas'].values())\n",
    "    cc_meas = list(data[0]['cc_meas'].values())\n",
    "    ssq = np.sum((ca_pred - ca_meas)**2) + np.sum((cb_pred - cb_meas)**2) + np.sum((cc_pred - cc_meas)**2)\n",
    "    \n",
    "    return ssq\n",
    "    "
   ]
  },
  {
   "cell_type": "code",
   "execution_count": 33,
   "metadata": {},
   "outputs": [
    {
     "data": {
      "text/plain": [
       "0.6530175180488677"
      ]
     },
     "execution_count": 33,
     "metadata": {},
     "output_type": "execute_result"
    }
   ],
   "source": [
    "ssq(np.array([1.0, 1.0]), data, rxnlist, cmplist)"
   ]
  },
  {
   "cell_type": "code",
   "execution_count": 36,
   "metadata": {},
   "outputs": [],
   "source": [
    "res = minimize(ssq, np.array([1.0, 1.0]), args = (data, rxnlist, cmplist), method = 'BFGS')"
   ]
  },
  {
   "cell_type": "code",
   "execution_count": 37,
   "metadata": {},
   "outputs": [
    {
     "data": {
      "text/plain": [
       "      fun: 0.0260833272925221\n",
       " hess_inv: array([[ 2.7173801 , -0.40426801],\n",
       "       [-0.40426801,  0.3349931 ]])\n",
       "      jac: array([ 8.07922333e-08, -3.61818820e-07])\n",
       "  message: 'Optimization terminated successfully.'\n",
       "     nfev: 36\n",
       "      nit: 7\n",
       "     njev: 9\n",
       "   status: 0\n",
       "  success: True\n",
       "        x: array([2.01846548, 0.99337053])"
      ]
     },
     "execution_count": 37,
     "metadata": {},
     "output_type": "execute_result"
    }
   ],
   "source": [
    "res"
   ]
  },
  {
   "cell_type": "code",
   "execution_count": null,
   "metadata": {},
   "outputs": [],
   "source": []
  }
 ],
 "metadata": {
  "kernelspec": {
   "display_name": "Python 3",
   "language": "python",
   "name": "python3"
  },
  "language_info": {
   "codemirror_mode": {
    "name": "ipython",
    "version": 3
   },
   "file_extension": ".py",
   "mimetype": "text/x-python",
   "name": "python",
   "nbconvert_exporter": "python",
   "pygments_lexer": "ipython3",
   "version": "3.6.9"
  }
 },
 "nbformat": 4,
 "nbformat_minor": 2
}
