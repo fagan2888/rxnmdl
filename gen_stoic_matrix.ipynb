{
 "cells": [
  {
   "cell_type": "code",
   "execution_count": 195,
   "metadata": {},
   "outputs": [],
   "source": [
    "import re\n",
    "from scipy.integrate import solve_ivp\n",
    "import pandas as pd\n",
    "import matplotlib.pyplot as plt\n",
    "import numpy as np\n",
    "from scipy.optimize import minimize"
   ]
  },
  {
   "cell_type": "code",
   "execution_count": 220,
   "metadata": {},
   "outputs": [],
   "source": [
    "rxnlist = {'r1': 'A + B -> C', 'r2' : 'B + C -> D'}"
   ]
  },
  {
   "cell_type": "code",
   "execution_count": 221,
   "metadata": {},
   "outputs": [
    {
     "data": {
      "text/html": [
       "<div>\n",
       "<style scoped>\n",
       "    .dataframe tbody tr th:only-of-type {\n",
       "        vertical-align: middle;\n",
       "    }\n",
       "\n",
       "    .dataframe tbody tr th {\n",
       "        vertical-align: top;\n",
       "    }\n",
       "\n",
       "    .dataframe thead th {\n",
       "        text-align: right;\n",
       "    }\n",
       "</style>\n",
       "<table border=\"1\" class=\"dataframe\">\n",
       "  <thead>\n",
       "    <tr style=\"text-align: right;\">\n",
       "      <th></th>\n",
       "      <th>kf</th>\n",
       "      <th>Keq</th>\n",
       "      <th>Eaf</th>\n",
       "      <th>Ear</th>\n",
       "      <th>Tref_C</th>\n",
       "    </tr>\n",
       "  </thead>\n",
       "  <tbody>\n",
       "    <tr>\n",
       "      <td>r1</td>\n",
       "      <td>1</td>\n",
       "      <td>-1</td>\n",
       "      <td>30000</td>\n",
       "      <td>0</td>\n",
       "      <td>25</td>\n",
       "    </tr>\n",
       "    <tr>\n",
       "      <td>r2</td>\n",
       "      <td>1</td>\n",
       "      <td>-1</td>\n",
       "      <td>30000</td>\n",
       "      <td>0</td>\n",
       "      <td>25</td>\n",
       "    </tr>\n",
       "  </tbody>\n",
       "</table>\n",
       "</div>"
      ],
      "text/plain": [
       "    kf  Keq    Eaf  Ear  Tref_C\n",
       "r1   1   -1  30000    0      25\n",
       "r2   1   -1  30000    0      25"
      ]
     },
     "execution_count": 221,
     "metadata": {},
     "output_type": "execute_result"
    }
   ],
   "source": [
    "rxnparam_dict = {'r1': {'kf':1, 'Keq': -1, 'Eaf': 30000, 'Ear': 0, 'Tref_C': 25}, \n",
    "                 'r2' : {'kf':1, 'Keq': -1, 'Eaf': 30000, 'Ear': 0, 'Tref_C': 25}}\n",
    "rxnparam = pd.DataFrame.from_dict(rxnparam_dict, orient = 'index')\n",
    "rxnparam"
   ]
  },
  {
   "cell_type": "code",
   "execution_count": 222,
   "metadata": {},
   "outputs": [],
   "source": [
    "def stoicoeff(x):\n",
    "    if '*' in x:\n",
    "        stoi = (x.split('*')[1], int(x.split('*')[0]))\n",
    "    else:\n",
    "        stoi = (x, 1)\n",
    "    return stoi"
   ]
  },
  {
   "cell_type": "code",
   "execution_count": 223,
   "metadata": {},
   "outputs": [
    {
     "data": {
      "text/plain": [
       "(('A', 1), ('B', 2))"
      ]
     },
     "execution_count": 223,
     "metadata": {},
     "output_type": "execute_result"
    }
   ],
   "source": [
    "stoicoeff('A'), stoicoeff('2*B')"
   ]
  },
  {
   "cell_type": "code",
   "execution_count": 224,
   "metadata": {},
   "outputs": [],
   "source": [
    "def get_rxnstoi(rxnlist):\n",
    "    rxnstoi = dict()\n",
    "\n",
    "    for k, rxn in rxnlist.items():\n",
    "        rxn2 = re.split('->|=', rxn)\n",
    "        rxntype = 'eqb' if '=' in rxn else 'fwd'\n",
    "        reactants = [x.strip() for x in rxn2[0].split('+')]\n",
    "        products = [x.strip() for x in rxn2[1].split('+')]\n",
    "        stoi = {stoicoeff(x)[0]: -stoicoeff(x)[1] for x in reactants}\n",
    "        stoi_products = {stoicoeff(x)[0]: stoicoeff(x)[1] for x in products}\n",
    "        stoi.update(stoi_products)\n",
    "        stoi.update({'rxntype': rxntype})\n",
    "        rxnstoi[k] = stoi\n",
    "    \n",
    "    rxnstoi_df = pd.DataFrame.from_dict(rxnstoi, orient = 'index').fillna(0)\n",
    "    \n",
    "    return rxnstoi_df"
   ]
  },
  {
   "cell_type": "code",
   "execution_count": 225,
   "metadata": {},
   "outputs": [
    {
     "data": {
      "text/html": [
       "<div>\n",
       "<style scoped>\n",
       "    .dataframe tbody tr th:only-of-type {\n",
       "        vertical-align: middle;\n",
       "    }\n",
       "\n",
       "    .dataframe tbody tr th {\n",
       "        vertical-align: top;\n",
       "    }\n",
       "\n",
       "    .dataframe thead th {\n",
       "        text-align: right;\n",
       "    }\n",
       "</style>\n",
       "<table border=\"1\" class=\"dataframe\">\n",
       "  <thead>\n",
       "    <tr style=\"text-align: right;\">\n",
       "      <th></th>\n",
       "      <th>A</th>\n",
       "      <th>B</th>\n",
       "      <th>C</th>\n",
       "      <th>rxntype</th>\n",
       "      <th>D</th>\n",
       "    </tr>\n",
       "  </thead>\n",
       "  <tbody>\n",
       "    <tr>\n",
       "      <td>r1</td>\n",
       "      <td>-1.0</td>\n",
       "      <td>-1</td>\n",
       "      <td>1</td>\n",
       "      <td>fwd</td>\n",
       "      <td>0.0</td>\n",
       "    </tr>\n",
       "    <tr>\n",
       "      <td>r2</td>\n",
       "      <td>0.0</td>\n",
       "      <td>-1</td>\n",
       "      <td>-1</td>\n",
       "      <td>fwd</td>\n",
       "      <td>1.0</td>\n",
       "    </tr>\n",
       "  </tbody>\n",
       "</table>\n",
       "</div>"
      ],
      "text/plain": [
       "      A  B  C rxntype    D\n",
       "r1 -1.0 -1  1     fwd  0.0\n",
       "r2  0.0 -1 -1     fwd  1.0"
      ]
     },
     "execution_count": 225,
     "metadata": {},
     "output_type": "execute_result"
    }
   ],
   "source": [
    "rxnstoi_df = get_rxnstoi(rxnlist)\n",
    "rxnstoi_df"
   ]
  },
  {
   "cell_type": "code",
   "execution_count": 226,
   "metadata": {},
   "outputs": [],
   "source": [
    "rlist = list(rxnstoi_df.index)"
   ]
  },
  {
   "cell_type": "code",
   "execution_count": 227,
   "metadata": {},
   "outputs": [
    {
     "name": "stdout",
     "output_type": "stream",
     "text": [
      "['A', 'B', 'C', 'D']\n",
      "[[-1.  0.]\n",
      " [-1. -1.]\n",
      " [ 1. -1.]\n",
      " [ 0.  1.]]\n"
     ]
    }
   ],
   "source": [
    "clist = list(rxnstoi_df.drop('rxntype', axis = 1).columns)\n",
    "stoimat = rxnstoi_df.drop('rxntype', axis = 1).to_numpy().T\n",
    "print(clist)\n",
    "print(stoimat)"
   ]
  },
  {
   "cell_type": "code",
   "execution_count": 228,
   "metadata": {},
   "outputs": [],
   "source": [
    "def rate(conc, stoimat, kf, Keq):\n",
    "    \n",
    "    ncmp = stoimat.shape[0]\n",
    "    nrxn = stoimat.shape[1]\n",
    "    rrate = np.zeros(nrxn)\n",
    "    for r in range(nrxn):\n",
    "        # calculate forward reaction rate\n",
    "        rfstoi = stoimat[:, r].copy()\n",
    "        rfstoi[rfstoi > 0] = 0\n",
    "        rf = kf[r] * np.prod(conc ** (-rfstoi))\n",
    "        # calculate reverse reaction rate\n",
    "        if Keq[r] > 0:\n",
    "            rrstoi = stoimat[:, r].copy()\n",
    "            rrstoi[rrstoi < 0] = 0\n",
    "            rr = kr[r] / Keq[r] * np.prod(conc ** (rrstoi))\n",
    "        else:\n",
    "            rr = 0.0\n",
    "        # overall reaction rate\n",
    "        rrate[r] = rf - rr\n",
    "\n",
    "    dc = np.matmul(stoimat, rrate)\n",
    "    \n",
    "    return dc"
   ]
  },
  {
   "cell_type": "code",
   "execution_count": 229,
   "metadata": {},
   "outputs": [],
   "source": [
    "def simulate(tspan, cinit, T, rxnparam, t_eval = None):\n",
    "    \n",
    "    R = 8.314\n",
    "    \n",
    "    kf = rxnparam['kf'].values\n",
    "    Keq = rxnparam['Keq'].values\n",
    "    Eaf = rxnparam['Eaf'].values\n",
    "    Ear = rxnparam['Ear'].values\n",
    "    Tref_C = rxnparam['Tref_C'].values\n",
    "    \n",
    "    kf = kf * np.exp((-Eaf / R) * (1/(T + 273) - 1/(Tref_C + 273)))\n",
    "    Keq = Keq * np.exp((-(Eaf - Ear) / R) * (1/(T + 273) - 1/(Tref_C + 273)))\n",
    "    rate_lam = lambda t, c: rate(c, stoimat, kf, Keq)\n",
    "    csol = solve_ivp(rate_lam, tspan, cinit, method = 'BDF', t_eval = t_eval)\n",
    "    \n",
    "    return csol"
   ]
  },
  {
   "cell_type": "code",
   "execution_count": 230,
   "metadata": {},
   "outputs": [],
   "source": [
    "csol = simulate([0, 10], [1, 1, 0, 0], 25, rxnparam)"
   ]
  },
  {
   "cell_type": "code",
   "execution_count": 231,
   "metadata": {},
   "outputs": [
    {
     "data": {
      "text/plain": [
       "<matplotlib.legend.Legend at 0x15195ba748>"
      ]
     },
     "execution_count": 231,
     "metadata": {},
     "output_type": "execute_result"
    },
    {
     "data": {
      "image/png": "[encoded data removed]",
      "text/plain": [
       "<Figure size 432x288 with 1 Axes>"
      ]
     },
     "metadata": {
      "needs_background": "light"
     },
     "output_type": "display_data"
    }
   ],
   "source": [
    "fig, ax = plt.subplots()\n",
    "ax.plot(csol.t, csol.y[0, :], label = 'A')\n",
    "ax.plot(csol.t, csol.y[1, :], label = 'B')\n",
    "ax.plot(csol.t, csol.y[2, :], label = 'C')\n",
    "ax.plot(csol.t, csol.y[3, :], label = 'D')\n",
    "ax.legend()"
   ]
  },
  {
   "cell_type": "code",
   "execution_count": null,
   "metadata": {},
   "outputs": [],
   "source": []
  }
 ],
 "metadata": {
  "kernelspec": {
   "display_name": "Python 3",
   "language": "python",
   "name": "python3"
  },
  "language_info": {
   "codemirror_mode": {
    "name": "ipython",
    "version": 3
   },
   "file_extension": ".py",
   "mimetype": "text/x-python",
   "name": "python",
   "nbconvert_exporter": "python",
   "pygments_lexer": "ipython3",
   "version": "3.6.9"
  }
 },
 "nbformat": 4,
 "nbformat_minor": 2
}
